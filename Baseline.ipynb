{
 "cells": [
  {
   "cell_type": "code",
   "execution_count": 1,
   "metadata": {},
   "outputs": [],
   "source": [
    "import warnings\n",
    "warnings.filterwarnings('ignore')\n",
    "from glob import glob \n",
    "import os \n",
    "\n",
    "import pandas as pd \n",
    "import numpy as np \n",
    "import matplotlib.pyplot as plt \n",
    "from PIL import Image \n",
    "import cv2\n",
    "\n",
    "\n",
    "import torch \n",
    "import torch.nn as nn \n",
    "from torch.utils.data import Dataset,DataLoader\n",
    "import torchvision.transforms as transforms \n",
    "import torchvision\n",
    "import timm \n",
    "\n",
    "from src.data.augmentation import *\n",
    "from src.data.factory import create_dataset,create_dataloader\n",
    "from src.options import Options"
   ]
  },
  {
   "cell_type": "code",
   "execution_count": 2,
   "metadata": {},
   "outputs": [],
   "source": [
    "cfg = Options().parse()\n",
    "\n",
    "\n",
    "trainset,testset = create_dataset(cfg)\n",
    "train_loader = create_dataloader(trainset,\n",
    "                                 cfg['Batchsize'],\n",
    "                                 shuffle=True)\n",
    "test_loader = create_dataloader(testset,\n",
    "                                cfg['Batchsize'],\n",
    "                                shuffle=False)"
   ]
  },
  {
   "cell_type": "code",
   "execution_count": 4,
   "metadata": {},
   "outputs": [],
   "source": [
    "teacher = build_net(True).to(device)\n",
    "student = build_net(False).to(device)\n"
   ]
  },
  {
   "cell_type": "code",
   "execution_count": 37,
   "metadata": {},
   "outputs": [],
   "source": [
    "def build_net(pretrained=False):\n",
    "    #net = timm.create_model('wide_resnet101_2',pretrained=pretrained)\n",
    "    net = timm.create_model('resnet18',pretrained=pretrained)\n",
    "    if pretrained:\n",
    "        model = torch.nn.Sequential(*(list(net.children())[:-2]))\n",
    "        for param in model.parameters():\n",
    "            param.requires_grad = False\n",
    "    else:\n",
    "        model = torch.nn.Sequential(*(list(net.children())[:-2]))\n",
    "        \n",
    "    return model \n",
    "\n",
    "class Model(nn.Module):\n",
    "    def __init__(self,training_type='deafult',device='cuda'):\n",
    "        super(Model,self).__init__()\n",
    "        self.teacher = build_net(True)\n",
    "        self.student = build_net()\n",
    "        self.training_type = training_type\n",
    "    \n",
    "    def train_independent_student(self,x):\n",
    "        t_features = []\n",
    "        s_features = []\n",
    "        for (t_name,t_module),(s_name,s_module) in zip(self.teacher._modules.items(),self.student._modules.items()):\n",
    "            if t_name in ['0','1','2','3']:\n",
    "                x = t_module(x)\n",
    "                #t_features.append(x)                    \n",
    "            else:\n",
    "                s = x.clone()\n",
    "                x = t_module(x)\n",
    "                s = s_module(s)\n",
    "                \n",
    "                t_features.append(x)\n",
    "                s_features.append(s)\n",
    "        return t_features,s_features\n",
    "    \n",
    "    def train_default_student(self,x):\n",
    "        t_features = [] \n",
    "        s_features = []\n",
    "        for (t_name,t_module),(s_name,s_module) in zip(self.teacher._modules.items(),self.student._modules.items()):\n",
    "            if t_name == '0':\n",
    "                x_s = s_module(x)\n",
    "                x_t = t_module(x)\n",
    "            else:\n",
    "                x_s = s_module(x)\n",
    "                x_t = t_module(x)\n",
    "                if t_name in ['4','5','6','7']:\n",
    "                    s_features.append(x_s)\n",
    "                    t_features.append(x_t)\n",
    "        return t_features,s_features\n",
    "            \n",
    "        \n",
    "    def forward(self,x):\n",
    "        if self.training_type =='default':\n",
    "            t_features,s_features = self.train_default_student(x)\n",
    "        else: \n",
    "            t_features,s_features = self.train_independent_student(x)\n",
    "        return t_features,s_features"
   ]
  },
  {
   "cell_type": "code",
   "execution_count": 43,
   "metadata": {},
   "outputs": [],
   "source": [
    "device = 'cuda:1'\n",
    "img,msk = next(iter(train_loader))\n",
    "img = img.type(torch.float32).to(device)\n",
    "model = Model('independent')\n",
    "model = model.to(device)\n",
    "t_features,s_features = model(img)"
   ]
  },
  {
   "cell_type": "code",
   "execution_count": 44,
   "metadata": {},
   "outputs": [],
   "source": [
    "i = 0 \n",
    "t_f = t_features[i]\n",
    "t_s = s_features[i]"
   ]
  },
  {
   "cell_type": "code",
   "execution_count": 48,
   "metadata": {},
   "outputs": [],
   "source": [
    "criterion = nn.MSELoss()\n",
    "loss = criterion(t_f,t_s)\n",
    "loss.backward()"
   ]
  }
 ],
 "metadata": {
  "kernelspec": {
   "display_name": "Python 3 (ipykernel)",
   "language": "python",
   "name": "python3"
  },
  "orig_nbformat": 4
 },
 "nbformat": 4,
 "nbformat_minor": 2
}
