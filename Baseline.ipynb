{
 "cells": [
  {
   "cell_type": "code",
   "execution_count": 2,
   "metadata": {},
   "outputs": [],
   "source": [
    "import warnings\n",
    "warnings.filterwarnings('ignore')\n",
    "from glob import glob \n",
    "import os \n",
    "import random \n",
    "\n",
    "import pandas as pd \n",
    "import numpy as np \n",
    "import matplotlib.pyplot as plt \n",
    "from PIL import Image \n",
    "import cv2\n",
    "\n",
    "\n",
    "import torch \n",
    "import torch.nn as nn \n",
    "import torch.nn.functional as F \n",
    "from torch.utils.data import Dataset,DataLoader\n",
    "import torchvision.transforms as transforms \n",
    "import torchvision\n",
    "import timm \n",
    "import wandb\n",
    "\n",
    "from src.data.augmentation import *\n",
    "from src.data.factory import create_dataset,create_dataloader\n",
    "from src.options import Options\n",
    "from src.models import Model \n",
    "from src.loss_function import LossFunction\n",
    "from src.train import AverageMeter,torch_seed,train_epoch,valid_epoch\n",
    "from src.callback import Callbacks"
   ]
  },
  {
   "cell_type": "code",
   "execution_count": 3,
   "metadata": {},
   "outputs": [],
   "source": [
    "def run(cfg):\n",
    "    torch_seed(cfg['seed'])\n",
    "    \n",
    "    # build train,test loader \n",
    "    trainset,testset = create_dataset(cfg)\n",
    "    train_loader = create_dataloader(\n",
    "                        dataset    = trainset,\n",
    "                        batch_size = cfg['Batchsize'],\n",
    "                        shuffle    = True)\n",
    "    test_loader = create_dataloader(\n",
    "                        dataset    = testset,\n",
    "                        batch_size = cfg['Batchsize'],\n",
    "                        shuffle    = True)\n",
    "\n",
    "    # build a model, criterion and optimizer \n",
    "    model = Model(cfg['modeltype']).to(cfg['device'])\n",
    "    criterion = LossFunction()\n",
    "    optimizer = __import__('torch.optim', fromlist='optim').__dict__['Adam'](model.parameters(), lr=cfg['lr'],betas=(cfg['beta1'],0.999))\n",
    "    scheduler = torch.optim.lr_scheduler.CosineAnnealingLR(optimizer,T_max=cfg['nepochs'])\n",
    "    \n",
    "    print('All loaded, Training start')\n",
    "    #fit(model,train_loader,test_loader,criterion,optimizer,scheduler,cfg)\n",
    "    return model,train_loader,test_loader,criterion,optimizer,scheduler\n",
    "    \n",
    "def fit(model,train_loader,test_loader,criterion,optimizer,scheduler,cfg):\n",
    "    \n",
    "    callbacks = Callbacks(cfg)\n",
    "    \n",
    "    total_loss = {} \n",
    "    total_loss['train'] = [] \n",
    "    total_loss['valid'] = [] \n",
    "    \n",
    "    for epoch in range(cfg['nepochs']):\n",
    "        train_loss = train_epoch(model,train_loader,criterion,optimizer,cfg)\n",
    "        valid_loss = valid_epoch(model,test_loader,criterion,cfg)\n",
    "\n",
    "        \n",
    "        total_loss['train'].append(train_loss)\n",
    "        total_loss['valid'].append(valid_loss)\n",
    "        scheduler.step()\n",
    "        \n",
    "        log = {'Epoch' : epoch,\n",
    "               'train_loss' : train_loss,\n",
    "               'valid_loss' : valid_loss,\n",
    "               'learing_rate' : optimizer.param_groups[0]['lr']}\n",
    "        \n",
    "        #check point \n",
    "        callbacks.epoch(model,log)\n",
    "    callbacks.epoch(model,log,'last')"
   ]
  },
  {
   "cell_type": "code",
   "execution_count": 1,
   "metadata": {},
   "outputs": [],
   "source": [
    "import yaml \n",
    "with open('./configs/default.yaml','r') as f:\n",
    "    cfg = yaml.load(f,Loader=yaml.FullLoader)\n",
    "    "
   ]
  },
  {
   "cell_type": "code",
   "execution_count": 2,
   "metadata": {},
   "outputs": [
    {
     "data": {
      "text/plain": [
       "'no_augmentation'"
      ]
     },
     "execution_count": 2,
     "metadata": {},
     "output_type": "execute_result"
    }
   ],
   "source": [
    "cfg['transform']"
   ]
  }
 ],
 "metadata": {
  "kernelspec": {
   "display_name": "Python 3 (ipykernel)",
   "language": "python",
   "name": "python3"
  },
  "language_info": {
   "codemirror_mode": {
    "name": "ipython",
    "version": 3
   },
   "file_extension": ".py",
   "mimetype": "text/x-python",
   "name": "python",
   "nbconvert_exporter": "python",
   "pygments_lexer": "ipython3",
   "version": "3.8.10"
  }
 },
 "nbformat": 4,
 "nbformat_minor": 4
}
